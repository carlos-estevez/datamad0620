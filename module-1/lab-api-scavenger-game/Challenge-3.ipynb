{
 "cells": [
  {
   "cell_type": "markdown",
   "metadata": {},
   "source": [
    "# Challenge 3: Hidden Cold Joke"
   ]
  },
  {
   "cell_type": "markdown",
   "metadata": {},
   "source": [
    "Using Python, call Github API to find out the cold joke contained in the 24 secret files in the following repo:\n",
    "\n",
    "https://github.com/ironhack-datalabs/scavenger\n",
    "\n",
    "The filenames of the secret files contain .scavengerhunt and they are scattered in different directories of this repo. The secret files are named from .0001.scavengerhunt to .0024.scavengerhunt. They are scattered randomly throughout this repo. You need to search for these files by calling the Github API, not searching the local files on your computer."
   ]
  },
  {
   "cell_type": "code",
   "execution_count": 3,
   "metadata": {},
   "outputs": [
    {
     "data": {
      "text/plain": [
       "True"
      ]
     },
     "execution_count": 3,
     "metadata": {},
     "output_type": "execute_result"
    }
   ],
   "source": [
    "import json\n",
    "import requests\n",
    "import os\n",
    "from dotenv import load_dotenv\n",
    "load_dotenv()"
   ]
  },
  {
   "cell_type": "code",
   "execution_count": 2,
   "metadata": {},
   "outputs": [],
   "source": [
    "def getFromGithub(endpoint, queryParams={}):\n",
    "    url = f\"https://api.github.com{endpoint}\"\n",
    "\n",
    "    apiKey = os.getenv(\"APIKEY\")\n",
    "    if not apiKey:\n",
    "        raise ValueError(\"Please setup the APIKEY env variable\")\n",
    "    headers = {\n",
    "        \"Authorization\": f\"token {apiKey}\"\n",
    "    }\n",
    "    \n",
    "    res = requests.get(url, headers=headers, params=queryParams)\n",
    "    print(res.url)\n",
    "    print(res)\n",
    "    return res.json()"
   ]
  },
  {
   "cell_type": "code",
   "execution_count": 10,
   "metadata": {},
   "outputs": [
    {
     "name": "stdout",
     "output_type": "stream",
     "text": [
      "https://api.github.com/repos/ironhack-datalabs/scavenger\n",
      "<Response [200]>\n"
     ]
    },
    {
     "data": {
      "text/plain": [
       "{'id': 162375181,\n",
       " 'node_id': 'MDEwOlJlcG9zaXRvcnkxNjIzNzUxODE=',\n",
       " 'name': 'scavenger',\n",
       " 'full_name': 'ironhack-datalabs/scavenger',\n",
       " 'private': False,\n",
       " 'owner': {'login': 'ironhack-datalabs',\n",
       "  'id': 44225188,\n",
       "  'node_id': 'MDEyOk9yZ2FuaXphdGlvbjQ0MjI1MTg4',\n",
       "  'avatar_url': 'https://avatars2.githubusercontent.com/u/44225188?v=4',\n",
       "  'gravatar_id': '',\n",
       "  'url': 'https://api.github.com/users/ironhack-datalabs',\n",
       "  'html_url': 'https://github.com/ironhack-datalabs',\n",
       "  'followers_url': 'https://api.github.com/users/ironhack-datalabs/followers',\n",
       "  'following_url': 'https://api.github.com/users/ironhack-datalabs/following{/other_user}',\n",
       "  'gists_url': 'https://api.github.com/users/ironhack-datalabs/gists{/gist_id}',\n",
       "  'starred_url': 'https://api.github.com/users/ironhack-datalabs/starred{/owner}{/repo}',\n",
       "  'subscriptions_url': 'https://api.github.com/users/ironhack-datalabs/subscriptions',\n",
       "  'organizations_url': 'https://api.github.com/users/ironhack-datalabs/orgs',\n",
       "  'repos_url': 'https://api.github.com/users/ironhack-datalabs/repos',\n",
       "  'events_url': 'https://api.github.com/users/ironhack-datalabs/events{/privacy}',\n",
       "  'received_events_url': 'https://api.github.com/users/ironhack-datalabs/received_events',\n",
       "  'type': 'Organization',\n",
       "  'site_admin': False},\n",
       " 'html_url': 'https://github.com/ironhack-datalabs/scavenger',\n",
       " 'description': None,\n",
       " 'fork': False,\n",
       " 'url': 'https://api.github.com/repos/ironhack-datalabs/scavenger',\n",
       " 'forks_url': 'https://api.github.com/repos/ironhack-datalabs/scavenger/forks',\n",
       " 'keys_url': 'https://api.github.com/repos/ironhack-datalabs/scavenger/keys{/key_id}',\n",
       " 'collaborators_url': 'https://api.github.com/repos/ironhack-datalabs/scavenger/collaborators{/collaborator}',\n",
       " 'teams_url': 'https://api.github.com/repos/ironhack-datalabs/scavenger/teams',\n",
       " 'hooks_url': 'https://api.github.com/repos/ironhack-datalabs/scavenger/hooks',\n",
       " 'issue_events_url': 'https://api.github.com/repos/ironhack-datalabs/scavenger/issues/events{/number}',\n",
       " 'events_url': 'https://api.github.com/repos/ironhack-datalabs/scavenger/events',\n",
       " 'assignees_url': 'https://api.github.com/repos/ironhack-datalabs/scavenger/assignees{/user}',\n",
       " 'branches_url': 'https://api.github.com/repos/ironhack-datalabs/scavenger/branches{/branch}',\n",
       " 'tags_url': 'https://api.github.com/repos/ironhack-datalabs/scavenger/tags',\n",
       " 'blobs_url': 'https://api.github.com/repos/ironhack-datalabs/scavenger/git/blobs{/sha}',\n",
       " 'git_tags_url': 'https://api.github.com/repos/ironhack-datalabs/scavenger/git/tags{/sha}',\n",
       " 'git_refs_url': 'https://api.github.com/repos/ironhack-datalabs/scavenger/git/refs{/sha}',\n",
       " 'trees_url': 'https://api.github.com/repos/ironhack-datalabs/scavenger/git/trees{/sha}',\n",
       " 'statuses_url': 'https://api.github.com/repos/ironhack-datalabs/scavenger/statuses/{sha}',\n",
       " 'languages_url': 'https://api.github.com/repos/ironhack-datalabs/scavenger/languages',\n",
       " 'stargazers_url': 'https://api.github.com/repos/ironhack-datalabs/scavenger/stargazers',\n",
       " 'contributors_url': 'https://api.github.com/repos/ironhack-datalabs/scavenger/contributors',\n",
       " 'subscribers_url': 'https://api.github.com/repos/ironhack-datalabs/scavenger/subscribers',\n",
       " 'subscription_url': 'https://api.github.com/repos/ironhack-datalabs/scavenger/subscription',\n",
       " 'commits_url': 'https://api.github.com/repos/ironhack-datalabs/scavenger/commits{/sha}',\n",
       " 'git_commits_url': 'https://api.github.com/repos/ironhack-datalabs/scavenger/git/commits{/sha}',\n",
       " 'comments_url': 'https://api.github.com/repos/ironhack-datalabs/scavenger/comments{/number}',\n",
       " 'issue_comment_url': 'https://api.github.com/repos/ironhack-datalabs/scavenger/issues/comments{/number}',\n",
       " 'contents_url': 'https://api.github.com/repos/ironhack-datalabs/scavenger/contents/{+path}',\n",
       " 'compare_url': 'https://api.github.com/repos/ironhack-datalabs/scavenger/compare/{base}...{head}',\n",
       " 'merges_url': 'https://api.github.com/repos/ironhack-datalabs/scavenger/merges',\n",
       " 'archive_url': 'https://api.github.com/repos/ironhack-datalabs/scavenger/{archive_format}{/ref}',\n",
       " 'downloads_url': 'https://api.github.com/repos/ironhack-datalabs/scavenger/downloads',\n",
       " 'issues_url': 'https://api.github.com/repos/ironhack-datalabs/scavenger/issues{/number}',\n",
       " 'pulls_url': 'https://api.github.com/repos/ironhack-datalabs/scavenger/pulls{/number}',\n",
       " 'milestones_url': 'https://api.github.com/repos/ironhack-datalabs/scavenger/milestones{/number}',\n",
       " 'notifications_url': 'https://api.github.com/repos/ironhack-datalabs/scavenger/notifications{?since,all,participating}',\n",
       " 'labels_url': 'https://api.github.com/repos/ironhack-datalabs/scavenger/labels{/name}',\n",
       " 'releases_url': 'https://api.github.com/repos/ironhack-datalabs/scavenger/releases{/id}',\n",
       " 'deployments_url': 'https://api.github.com/repos/ironhack-datalabs/scavenger/deployments',\n",
       " 'created_at': '2018-12-19T03:01:30Z',\n",
       " 'updated_at': '2018-12-19T03:05:09Z',\n",
       " 'pushed_at': '2018-12-19T03:05:07Z',\n",
       " 'git_url': 'git://github.com/ironhack-datalabs/scavenger.git',\n",
       " 'ssh_url': 'git@github.com:ironhack-datalabs/scavenger.git',\n",
       " 'clone_url': 'https://github.com/ironhack-datalabs/scavenger.git',\n",
       " 'svn_url': 'https://github.com/ironhack-datalabs/scavenger',\n",
       " 'homepage': None,\n",
       " 'size': 3,\n",
       " 'stargazers_count': 0,\n",
       " 'watchers_count': 0,\n",
       " 'language': None,\n",
       " 'has_issues': True,\n",
       " 'has_projects': True,\n",
       " 'has_downloads': True,\n",
       " 'has_wiki': True,\n",
       " 'has_pages': False,\n",
       " 'forks_count': 4,\n",
       " 'mirror_url': None,\n",
       " 'archived': False,\n",
       " 'disabled': False,\n",
       " 'open_issues_count': 0,\n",
       " 'license': None,\n",
       " 'forks': 4,\n",
       " 'open_issues': 0,\n",
       " 'watchers': 0,\n",
       " 'default_branch': 'master',\n",
       " 'permissions': {'admin': False, 'push': False, 'pull': True},\n",
       " 'temp_clone_token': '',\n",
       " 'organization': {'login': 'ironhack-datalabs',\n",
       "  'id': 44225188,\n",
       "  'node_id': 'MDEyOk9yZ2FuaXphdGlvbjQ0MjI1MTg4',\n",
       "  'avatar_url': 'https://avatars2.githubusercontent.com/u/44225188?v=4',\n",
       "  'gravatar_id': '',\n",
       "  'url': 'https://api.github.com/users/ironhack-datalabs',\n",
       "  'html_url': 'https://github.com/ironhack-datalabs',\n",
       "  'followers_url': 'https://api.github.com/users/ironhack-datalabs/followers',\n",
       "  'following_url': 'https://api.github.com/users/ironhack-datalabs/following{/other_user}',\n",
       "  'gists_url': 'https://api.github.com/users/ironhack-datalabs/gists{/gist_id}',\n",
       "  'starred_url': 'https://api.github.com/users/ironhack-datalabs/starred{/owner}{/repo}',\n",
       "  'subscriptions_url': 'https://api.github.com/users/ironhack-datalabs/subscriptions',\n",
       "  'organizations_url': 'https://api.github.com/users/ironhack-datalabs/orgs',\n",
       "  'repos_url': 'https://api.github.com/users/ironhack-datalabs/repos',\n",
       "  'events_url': 'https://api.github.com/users/ironhack-datalabs/events{/privacy}',\n",
       "  'received_events_url': 'https://api.github.com/users/ironhack-datalabs/received_events',\n",
       "  'type': 'Organization',\n",
       "  'site_admin': False},\n",
       " 'network_count': 4,\n",
       " 'subscribers_count': 2}"
      ]
     },
     "execution_count": 10,
     "metadata": {},
     "output_type": "execute_result"
    }
   ],
   "source": [
    "a = getFromGithub (\"/repos/ironhack-datalabs/scavenger\")\n",
    "a"
   ]
  },
  {
   "cell_type": "code",
   "execution_count": null,
   "metadata": {},
   "outputs": [],
   "source": []
  }
 ],
 "metadata": {
  "kernelspec": {
   "display_name": "Python 3",
   "language": "python",
   "name": "python3"
  },
  "language_info": {
   "codemirror_mode": {
    "name": "ipython",
    "version": 3
   },
   "file_extension": ".py",
   "mimetype": "text/x-python",
   "name": "python",
   "nbconvert_exporter": "python",
   "pygments_lexer": "ipython3",
   "version": "3.7.7"
  }
 },
 "nbformat": 4,
 "nbformat_minor": 4
}
